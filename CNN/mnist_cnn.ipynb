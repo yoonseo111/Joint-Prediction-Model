{
  "cells": [
    {
      "cell_type": "code",
      "execution_count": null,
      "metadata": {
        "colab": {
          "base_uri": "https://localhost:8080/"
        },
        "id": "C99qE5GQ1AqG",
        "outputId": "6a392053-36a3-40b9-da7c-0116d56f4906"
      },
      "outputs": [
        {
          "name": "stdout",
          "output_type": "stream",
          "text": [
            "Looking in indexes: https://pypi.org/simple, https://us-python.pkg.dev/colab-wheels/public/simple/\n",
            "Requirement already satisfied: tensorflow in /usr/local/lib/python3.9/dist-packages (2.12.0)\n",
            "Requirement already satisfied: numpy<1.24,>=1.22 in /usr/local/lib/python3.9/dist-packages (from tensorflow) (1.22.4)\n",
            "Requirement already satisfied: tensorflow-estimator<2.13,>=2.12.0 in /usr/local/lib/python3.9/dist-packages (from tensorflow) (2.12.0)\n",
            "Requirement already satisfied: typing-extensions>=3.6.6 in /usr/local/lib/python3.9/dist-packages (from tensorflow) (4.5.0)\n",
            "Requirement already satisfied: packaging in /usr/local/lib/python3.9/dist-packages (from tensorflow) (23.1)\n",
            "Requirement already satisfied: keras<2.13,>=2.12.0 in /usr/local/lib/python3.9/dist-packages (from tensorflow) (2.12.0)\n",
            "Requirement already satisfied: opt-einsum>=2.3.2 in /usr/local/lib/python3.9/dist-packages (from tensorflow) (3.3.0)\n",
            "Requirement already satisfied: tensorboard<2.13,>=2.12 in /usr/local/lib/python3.9/dist-packages (from tensorflow) (2.12.2)\n",
            "Requirement already satisfied: grpcio<2.0,>=1.24.3 in /usr/local/lib/python3.9/dist-packages (from tensorflow) (1.53.0)\n",
            "Requirement already satisfied: h5py>=2.9.0 in /usr/local/lib/python3.9/dist-packages (from tensorflow) (3.8.0)\n",
            "Requirement already satisfied: astunparse>=1.6.0 in /usr/local/lib/python3.9/dist-packages (from tensorflow) (1.6.3)\n",
            "Requirement already satisfied: google-pasta>=0.1.1 in /usr/local/lib/python3.9/dist-packages (from tensorflow) (0.2.0)\n",
            "Requirement already satisfied: tensorflow-io-gcs-filesystem>=0.23.1 in /usr/local/lib/python3.9/dist-packages (from tensorflow) (0.32.0)\n",
            "Requirement already satisfied: gast<=0.4.0,>=0.2.1 in /usr/local/lib/python3.9/dist-packages (from tensorflow) (0.4.0)\n",
            "Requirement already satisfied: six>=1.12.0 in /usr/local/lib/python3.9/dist-packages (from tensorflow) (1.16.0)\n",
            "Requirement already satisfied: absl-py>=1.0.0 in /usr/local/lib/python3.9/dist-packages (from tensorflow) (1.4.0)\n",
            "Requirement already satisfied: setuptools in /usr/local/lib/python3.9/dist-packages (from tensorflow) (67.6.1)\n",
            "Requirement already satisfied: libclang>=13.0.0 in /usr/local/lib/python3.9/dist-packages (from tensorflow) (16.0.0)\n",
            "Requirement already satisfied: flatbuffers>=2.0 in /usr/local/lib/python3.9/dist-packages (from tensorflow) (23.3.3)\n",
            "Requirement already satisfied: termcolor>=1.1.0 in /usr/local/lib/python3.9/dist-packages (from tensorflow) (2.2.0)\n",
            "Requirement already satisfied: protobuf!=4.21.0,!=4.21.1,!=4.21.2,!=4.21.3,!=4.21.4,!=4.21.5,<5.0.0dev,>=3.20.3 in /usr/local/lib/python3.9/dist-packages (from tensorflow) (3.20.3)\n",
            "Requirement already satisfied: jax>=0.3.15 in /usr/local/lib/python3.9/dist-packages (from tensorflow) (0.4.8)\n",
            "Requirement already satisfied: wrapt<1.15,>=1.11.0 in /usr/local/lib/python3.9/dist-packages (from tensorflow) (1.14.1)\n",
            "Requirement already satisfied: wheel<1.0,>=0.23.0 in /usr/local/lib/python3.9/dist-packages (from astunparse>=1.6.0->tensorflow) (0.40.0)\n",
            "Requirement already satisfied: scipy>=1.7 in /usr/local/lib/python3.9/dist-packages (from jax>=0.3.15->tensorflow) (1.10.1)\n",
            "Requirement already satisfied: ml-dtypes>=0.0.3 in /usr/local/lib/python3.9/dist-packages (from jax>=0.3.15->tensorflow) (0.1.0)\n",
            "Requirement already satisfied: tensorboard-plugin-wit>=1.6.0 in /usr/local/lib/python3.9/dist-packages (from tensorboard<2.13,>=2.12->tensorflow) (1.8.1)\n",
            "Requirement already satisfied: requests<3,>=2.21.0 in /usr/local/lib/python3.9/dist-packages (from tensorboard<2.13,>=2.12->tensorflow) (2.27.1)\n",
            "Requirement already satisfied: google-auth-oauthlib<1.1,>=0.5 in /usr/local/lib/python3.9/dist-packages (from tensorboard<2.13,>=2.12->tensorflow) (1.0.0)\n",
            "Requirement already satisfied: tensorboard-data-server<0.8.0,>=0.7.0 in /usr/local/lib/python3.9/dist-packages (from tensorboard<2.13,>=2.12->tensorflow) (0.7.0)\n",
            "Requirement already satisfied: werkzeug>=1.0.1 in /usr/local/lib/python3.9/dist-packages (from tensorboard<2.13,>=2.12->tensorflow) (2.2.3)\n",
            "Requirement already satisfied: markdown>=2.6.8 in /usr/local/lib/python3.9/dist-packages (from tensorboard<2.13,>=2.12->tensorflow) (3.4.3)\n",
            "Requirement already satisfied: google-auth<3,>=1.6.3 in /usr/local/lib/python3.9/dist-packages (from tensorboard<2.13,>=2.12->tensorflow) (2.17.3)\n",
            "Requirement already satisfied: cachetools<6.0,>=2.0.0 in /usr/local/lib/python3.9/dist-packages (from google-auth<3,>=1.6.3->tensorboard<2.13,>=2.12->tensorflow) (5.3.0)\n",
            "Requirement already satisfied: pyasn1-modules>=0.2.1 in /usr/local/lib/python3.9/dist-packages (from google-auth<3,>=1.6.3->tensorboard<2.13,>=2.12->tensorflow) (0.2.8)\n",
            "Requirement already satisfied: rsa<5,>=3.1.4 in /usr/local/lib/python3.9/dist-packages (from google-auth<3,>=1.6.3->tensorboard<2.13,>=2.12->tensorflow) (4.9)\n",
            "Requirement already satisfied: requests-oauthlib>=0.7.0 in /usr/local/lib/python3.9/dist-packages (from google-auth-oauthlib<1.1,>=0.5->tensorboard<2.13,>=2.12->tensorflow) (1.3.1)\n",
            "Requirement already satisfied: importlib-metadata>=4.4 in /usr/local/lib/python3.9/dist-packages (from markdown>=2.6.8->tensorboard<2.13,>=2.12->tensorflow) (6.4.1)\n",
            "Requirement already satisfied: urllib3<1.27,>=1.21.1 in /usr/local/lib/python3.9/dist-packages (from requests<3,>=2.21.0->tensorboard<2.13,>=2.12->tensorflow) (1.26.15)\n",
            "Requirement already satisfied: charset-normalizer~=2.0.0 in /usr/local/lib/python3.9/dist-packages (from requests<3,>=2.21.0->tensorboard<2.13,>=2.12->tensorflow) (2.0.12)\n",
            "Requirement already satisfied: certifi>=2017.4.17 in /usr/local/lib/python3.9/dist-packages (from requests<3,>=2.21.0->tensorboard<2.13,>=2.12->tensorflow) (2022.12.7)\n",
            "Requirement already satisfied: idna<4,>=2.5 in /usr/local/lib/python3.9/dist-packages (from requests<3,>=2.21.0->tensorboard<2.13,>=2.12->tensorflow) (3.4)\n",
            "Requirement already satisfied: MarkupSafe>=2.1.1 in /usr/local/lib/python3.9/dist-packages (from werkzeug>=1.0.1->tensorboard<2.13,>=2.12->tensorflow) (2.1.2)\n",
            "Requirement already satisfied: zipp>=0.5 in /usr/local/lib/python3.9/dist-packages (from importlib-metadata>=4.4->markdown>=2.6.8->tensorboard<2.13,>=2.12->tensorflow) (3.15.0)\n",
            "Requirement already satisfied: pyasn1<0.5.0,>=0.4.6 in /usr/local/lib/python3.9/dist-packages (from pyasn1-modules>=0.2.1->google-auth<3,>=1.6.3->tensorboard<2.13,>=2.12->tensorflow) (0.4.8)\n",
            "Requirement already satisfied: oauthlib>=3.0.0 in /usr/local/lib/python3.9/dist-packages (from requests-oauthlib>=0.7.0->google-auth-oauthlib<1.1,>=0.5->tensorboard<2.13,>=2.12->tensorflow) (3.2.2)\n"
          ]
        }
      ],
      "source": [
        "!pip install tensorflow"
      ]
    },
    {
      "cell_type": "code",
      "execution_count": null,
      "metadata": {
        "id": "9LMwA8pF2wHJ"
      },
      "outputs": [],
      "source": [
        "import tensorflow as tf\n",
        "from tensorflow import keras\n",
        "import numpy as np\n",
        "import matplotlib.pyplot as plt"
      ]
    },
    {
      "cell_type": "code",
      "execution_count": null,
      "metadata": {
        "id": "IRpqVPQA2mYF"
      },
      "outputs": [],
      "source": [
        "import numpy as np\n",
        "import pandas as pd\n",
        "\n",
        "from tensorflow import keras\n",
        "from tensorflow.keras.datasets import mnist\n",
        "\n",
        "from tensorflow.keras.models import Sequential\n",
        "from tensorflow.keras.layers import Activation, Conv2D, MaxPooling2D, Dense, Flatten\n",
        "from tensorflow.keras.layers import Dropout, BatchNormalization\n",
        "from tensorflow.keras.utils import to_categorical\n",
        "\n",
        "from keras.callbacks import ModelCheckpoint\n",
        "\n",
        "from sklearn.metrics import confusion_matrix\n",
        "import matplotlib.pyplot as plt"
      ]
    },
    {
      "cell_type": "code",
      "execution_count": null,
      "metadata": {
        "colab": {
          "base_uri": "https://localhost:8080/"
        },
        "id": "utjbMeFY1Ubr",
        "outputId": "e900c215-e876-4eaa-fad2-00e61dd216c4"
      },
      "outputs": [
        {
          "name": "stdout",
          "output_type": "stream",
          "text": [
            "Mounted at /content/gdrive\n"
          ]
        }
      ],
      "source": [
        "from google.colab import drive\n",
        "drive.mount('/content/gdrive')"
      ]
    },
    {
      "cell_type": "code",
      "execution_count": null,
      "metadata": {
        "id": "7qdMgbo91iS_"
      },
      "outputs": [],
      "source": [
        "# mnist 데이터 불러오기\n",
        "\n",
        "mnist = keras.datasets.mnist"
      ]
    },
    {
      "cell_type": "code",
      "execution_count": null,
      "metadata": {
        "colab": {
          "base_uri": "https://localhost:8080/"
        },
        "id": "wyQMBJ3w2ETo",
        "outputId": "8b74f9cf-7e0b-4c60-d028-069209f3c770"
      },
      "outputs": [
        {
          "name": "stdout",
          "output_type": "stream",
          "text": [
            "Downloading data from https://storage.googleapis.com/tensorflow/tf-keras-datasets/mnist.npz\n",
            "11490434/11490434 [==============================] - 0s 0us/step\n"
          ]
        }
      ],
      "source": [
        "(x_train, y_train), (x_test, y_test) = mnist.load_data()"
      ]
    },
    {
      "cell_type": "code",
      "execution_count": null,
      "metadata": {
        "colab": {
          "base_uri": "https://localhost:8080/"
        },
        "id": "D5VwvpZA2dDl",
        "outputId": "df262a6b-165f-445c-bcec-44aaa879d0b2"
      },
      "outputs": [
        {
          "data": {
            "text/plain": [
              "(60000, 28, 28)"
            ]
          },
          "execution_count": 6,
          "metadata": {},
          "output_type": "execute_result"
        }
      ],
      "source": [
        "x_train.shape"
      ]
    },
    {
      "cell_type": "code",
      "execution_count": null,
      "metadata": {
        "colab": {
          "base_uri": "https://localhost:8080/"
        },
        "id": "CKBwywty2_Nf",
        "outputId": "9ba2bb12-e5a5-4681-de1c-7d173db38444"
      },
      "outputs": [
        {
          "data": {
            "text/plain": [
              "(60000,)"
            ]
          },
          "execution_count": 7,
          "metadata": {},
          "output_type": "execute_result"
        }
      ],
      "source": [
        "y_train.shape"
      ]
    },
    {
      "cell_type": "code",
      "execution_count": null,
      "metadata": {
        "id": "Lf8vpYX13GIt"
      },
      "outputs": [],
      "source": [
        "np.random.seed(1234)\n",
        "val_ind = np.random.choice(x_train.shape[0], 10000, replace=False)\n",
        "tr_ind = np.setdiff1d(np.arange(x_train.shape[0]),val_ind)\n",
        "\n",
        "x_valid, y_valid = x_train[val_ind], y_train[val_ind]\n",
        "x_train, y_train = x_train[tr_ind], y_train[tr_ind]"
      ]
    },
    {
      "cell_type": "code",
      "execution_count": null,
      "metadata": {
        "id": "7n-36N2R3Zdx"
      },
      "outputs": [],
      "source": [
        "x_train = (x_train / 255) - 0.5\n",
        "x_valid = (x_valid / 255) - 0.5\n",
        "x_test = (x_test / 255) - 0.5\n",
        "\n",
        "x_train = np.expand_dims(x_train, axis=3)\n",
        "x_valid = np.expand_dims(x_valid, axis=3)\n",
        "x_test = np.expand_dims(x_test, axis=3)\n",
        "\n",
        "y_train_onehot = to_categorical(y_train, num_classes=10)\n",
        "y_valid_onehot = to_categorical(y_valid, num_classes=10)\n",
        "y_test_onehot = to_categorical(y_test, num_classes=10)"
      ]
    },
    {
      "cell_type": "code",
      "execution_count": null,
      "metadata": {
        "colab": {
          "base_uri": "https://localhost:8080/"
        },
        "id": "FE1KwO0T3mWP",
        "outputId": "97508375-a8ff-4436-b2c2-c604b48500f0"
      },
      "outputs": [
        {
          "name": "stdout",
          "output_type": "stream",
          "text": [
            "(50000, 28, 28, 1)\n",
            "(10000, 28, 28, 1)\n",
            "(10000, 28, 28, 1)\n"
          ]
        }
      ],
      "source": [
        "print(x_train.shape)\n",
        "print(x_valid.shape)\n",
        "print(x_test.shape)"
      ]
    },
    {
      "cell_type": "code",
      "execution_count": null,
      "metadata": {
        "colab": {
          "base_uri": "https://localhost:8080/"
        },
        "id": "0AYiLMhV3ovg",
        "outputId": "38d9b300-8e11-4540-a396-82e794406186"
      },
      "outputs": [
        {
          "name": "stdout",
          "output_type": "stream",
          "text": [
            "Model: \"sequential_1\"\n",
            "_________________________________________________________________\n",
            " Layer (type)                Output Shape              Param #   \n",
            "=================================================================\n",
            " conv2d_6 (Conv2D)           (None, 28, 28, 30)        300       \n",
            "                                                                 \n",
            " batch_normalization_6 (Batc  (None, 28, 28, 30)       120       \n",
            " hNormalization)                                                 \n",
            "                                                                 \n",
            " activation_7 (Activation)   (None, 28, 28, 30)        0         \n",
            "                                                                 \n",
            " conv2d_7 (Conv2D)           (None, 28, 28, 30)        8130      \n",
            "                                                                 \n",
            " batch_normalization_7 (Batc  (None, 28, 28, 30)       120       \n",
            " hNormalization)                                                 \n",
            "                                                                 \n",
            " activation_8 (Activation)   (None, 28, 28, 30)        0         \n",
            "                                                                 \n",
            " max_pooling2d_3 (MaxPooling  (None, 14, 14, 30)       0         \n",
            " 2D)                                                             \n",
            "                                                                 \n",
            " conv2d_8 (Conv2D)           (None, 14, 14, 30)        8130      \n",
            "                                                                 \n",
            " batch_normalization_8 (Batc  (None, 14, 14, 30)       120       \n",
            " hNormalization)                                                 \n",
            "                                                                 \n",
            " activation_9 (Activation)   (None, 14, 14, 30)        0         \n",
            "                                                                 \n",
            " conv2d_9 (Conv2D)           (None, 14, 14, 30)        8130      \n",
            "                                                                 \n",
            " batch_normalization_9 (Batc  (None, 14, 14, 30)       120       \n",
            " hNormalization)                                                 \n",
            "                                                                 \n",
            " activation_10 (Activation)  (None, 14, 14, 30)        0         \n",
            "                                                                 \n",
            " max_pooling2d_4 (MaxPooling  (None, 7, 7, 30)         0         \n",
            " 2D)                                                             \n",
            "                                                                 \n",
            " conv2d_10 (Conv2D)          (None, 7, 7, 30)          8130      \n",
            "                                                                 \n",
            " batch_normalization_10 (Bat  (None, 7, 7, 30)         120       \n",
            " chNormalization)                                                \n",
            "                                                                 \n",
            " activation_11 (Activation)  (None, 7, 7, 30)          0         \n",
            "                                                                 \n",
            " conv2d_11 (Conv2D)          (None, 7, 7, 30)          8130      \n",
            "                                                                 \n",
            " batch_normalization_11 (Bat  (None, 7, 7, 30)         120       \n",
            " chNormalization)                                                \n",
            "                                                                 \n",
            " activation_12 (Activation)  (None, 7, 7, 30)          0         \n",
            "                                                                 \n",
            " max_pooling2d_5 (MaxPooling  (None, 3, 3, 30)         0         \n",
            " 2D)                                                             \n",
            "                                                                 \n",
            " flatten_1 (Flatten)         (None, 270)               0         \n",
            "                                                                 \n",
            " dense_2 (Dense)             (None, 50)                13550     \n",
            "                                                                 \n",
            " activation_13 (Activation)  (None, 50)                0         \n",
            "                                                                 \n",
            " dense_3 (Dense)             (None, 10)                510       \n",
            "                                                                 \n",
            "=================================================================\n",
            "Total params: 55,730\n",
            "Trainable params: 55,370\n",
            "Non-trainable params: 360\n",
            "_________________________________________________________________\n"
          ]
        }
      ],
      "source": [
        "filter_size = 3\n",
        "pool_size = 2\n",
        "\n",
        "model = Sequential([\n",
        "  keras.Input(shape=(28,28,1)),\n",
        "  Conv2D(filters = 30, kernel_size = (3,3), padding='same'),\n",
        "  BatchNormalization(),\n",
        "  Activation('relu'),\n",
        "  Conv2D(filters = 30, kernel_size = (3,3), padding='same'),\n",
        "  BatchNormalization(),\n",
        "  Activation('relu'),\n",
        "  MaxPooling2D(pool_size=pool_size),\n",
        "  Conv2D(filters = 30, kernel_size = (3,3), padding='same'),\n",
        "  BatchNormalization(),\n",
        "  Activation('relu'),\n",
        "  Conv2D(filters = 30, kernel_size = filter_size, padding='same'),\n",
        "  BatchNormalization(),\n",
        "  Activation('relu'),\n",
        "  MaxPooling2D(pool_size=pool_size),\n",
        "  Conv2D(filters = 30, kernel_size = (3,3), padding='same'),\n",
        "  BatchNormalization(),\n",
        "  Activation('relu'),\n",
        "  Conv2D(filters = 30, kernel_size = filter_size, padding='same'),\n",
        "  BatchNormalization(),\n",
        "  Activation('relu'),\n",
        "  MaxPooling2D(pool_size=pool_size),\n",
        "  Flatten(),\n",
        "  Dense(50),\n",
        "  Activation('relu'),\n",
        "  Dense(10, activation='softmax'),\n",
        "])\n",
        "\n",
        "model.summary()"
      ]
    },
    {
      "cell_type": "code",
      "execution_count": null,
      "metadata": {
        "id": "L-JKCBpf4pFJ"
      },
      "outputs": [],
      "source": [
        "checkpoint_filepath = \"/content/gdrive/best_cnn.ckpt\"\n",
        "model_checkpoint_callback = ModelCheckpoint(\n",
        "    filepath=checkpoint_filepath,\n",
        "    save_weights_only=True,\n",
        "    monitor='val_accuracy',\n",
        "    mode='max',\n",
        "    save_best_only=True,\n",
        "    verbose=1)\n"
      ]
    },
    {
      "cell_type": "code",
      "execution_count": null,
      "metadata": {
        "colab": {
          "base_uri": "https://localhost:8080/"
        },
        "id": "S7qOd40c4vUw",
        "outputId": "85503bd6-3501-4300-def9-396398c7e2ab"
      },
      "outputs": [
        {
          "name": "stdout",
          "output_type": "stream",
          "text": [
            "Epoch 1/10\n",
            "196/196 [==============================] - ETA: 0s - loss: 0.2576 - accuracy: 0.9278\n",
            "Epoch 1: val_accuracy improved from -inf to 0.11680, saving model to /content/gdrive/MyDrive/AI_class/best_cnn.ckpt\n",
            "196/196 [==============================] - 251s 1s/step - loss: 0.2576 - accuracy: 0.9278 - val_loss: 2.8895 - val_accuracy: 0.1168\n",
            "Epoch 2/10\n",
            "196/196 [==============================] - ETA: 0s - loss: 0.0436 - accuracy: 0.9868\n",
            "Epoch 2: val_accuracy improved from 0.11680 to 0.54350, saving model to /content/gdrive/MyDrive/AI_class/best_cnn.ckpt\n",
            "196/196 [==============================] - 235s 1s/step - loss: 0.0436 - accuracy: 0.9868 - val_loss: 1.1906 - val_accuracy: 0.5435\n",
            "Epoch 3/10\n",
            "196/196 [==============================] - ETA: 0s - loss: 0.0288 - accuracy: 0.9917\n",
            "Epoch 3: val_accuracy improved from 0.54350 to 0.98630, saving model to /content/gdrive/MyDrive/AI_class/best_cnn.ckpt\n",
            "196/196 [==============================] - 248s 1s/step - loss: 0.0288 - accuracy: 0.9917 - val_loss: 0.0453 - val_accuracy: 0.9863\n",
            "Epoch 4/10\n",
            "196/196 [==============================] - ETA: 0s - loss: 0.0231 - accuracy: 0.9931\n",
            "Epoch 4: val_accuracy improved from 0.98630 to 0.98690, saving model to /content/gdrive/MyDrive/AI_class/best_cnn.ckpt\n",
            "196/196 [==============================] - 250s 1s/step - loss: 0.0231 - accuracy: 0.9931 - val_loss: 0.0418 - val_accuracy: 0.9869\n",
            "Epoch 5/10\n",
            "196/196 [==============================] - ETA: 0s - loss: 0.0182 - accuracy: 0.9947\n",
            "Epoch 5: val_accuracy improved from 0.98690 to 0.99010, saving model to /content/gdrive/MyDrive/AI_class/best_cnn.ckpt\n",
            "196/196 [==============================] - 247s 1s/step - loss: 0.0182 - accuracy: 0.9947 - val_loss: 0.0330 - val_accuracy: 0.9901\n",
            "Epoch 6/10\n",
            "196/196 [==============================] - ETA: 0s - loss: 0.0148 - accuracy: 0.9956\n",
            "Epoch 6: val_accuracy did not improve from 0.99010\n",
            "196/196 [==============================] - 236s 1s/step - loss: 0.0148 - accuracy: 0.9956 - val_loss: 0.0458 - val_accuracy: 0.9853\n",
            "Epoch 7/10\n",
            "196/196 [==============================] - ETA: 0s - loss: 0.0095 - accuracy: 0.9974\n",
            "Epoch 7: val_accuracy did not improve from 0.99010\n",
            "196/196 [==============================] - 249s 1s/step - loss: 0.0095 - accuracy: 0.9974 - val_loss: 0.0363 - val_accuracy: 0.9884\n",
            "Epoch 8/10\n",
            "196/196 [==============================] - ETA: 0s - loss: 0.0061 - accuracy: 0.9985\n",
            "Epoch 8: val_accuracy improved from 0.99010 to 0.99230, saving model to /content/gdrive/MyDrive/AI_class/best_cnn.ckpt\n",
            "196/196 [==============================] - 238s 1s/step - loss: 0.0061 - accuracy: 0.9985 - val_loss: 0.0276 - val_accuracy: 0.9923\n",
            "Epoch 9/10\n",
            "196/196 [==============================] - ETA: 0s - loss: 0.0048 - accuracy: 0.9987\n",
            "Epoch 9: val_accuracy did not improve from 0.99230\n",
            "196/196 [==============================] - 248s 1s/step - loss: 0.0048 - accuracy: 0.9987 - val_loss: 0.0270 - val_accuracy: 0.9914\n",
            "Epoch 10/10\n",
            "196/196 [==============================] - ETA: 0s - loss: 0.0060 - accuracy: 0.9983\n",
            "Epoch 10: val_accuracy did not improve from 0.99230\n",
            "196/196 [==============================] - 235s 1s/step - loss: 0.0060 - accuracy: 0.9983 - val_loss: 0.0399 - val_accuracy: 0.9888\n"
          ]
        }
      ],
      "source": [
        "# Compile the model.\n",
        "model.compile(\n",
        "  'adam',\n",
        "  loss='categorical_crossentropy',\n",
        "  metrics=['accuracy'],\n",
        ")\n",
        "\n",
        "# Train the model.\n",
        "history = model.fit(x=x_train,y=y_train_onehot,\n",
        "          epochs=10,\n",
        "          validation_data=(x_valid, y_valid_onehot),\n",
        "          verbose=1,\n",
        "          batch_size=256,\n",
        "          callbacks=[model_checkpoint_callback]\n",
        ")\n"
      ]
    },
    {
      "cell_type": "code",
      "execution_count": null,
      "metadata": {
        "colab": {
          "base_uri": "https://localhost:8080/"
        },
        "id": "i-KEKoY64yqI",
        "outputId": "b0f37cd6-990f-4163-fa9c-c331083aa35b"
      },
      "outputs": [
        {
          "data": {
            "text/plain": [
              "<tensorflow.python.checkpoint.checkpoint.CheckpointLoadStatus at 0x7f131b1e37f0>"
            ]
          },
          "execution_count": 17,
          "metadata": {},
          "output_type": "execute_result"
        }
      ],
      "source": [
        "model.load_weights(checkpoint_filepath)"
      ]
    },
    {
      "cell_type": "code",
      "execution_count": null,
      "metadata": {
        "colab": {
          "base_uri": "https://localhost:8080/"
        },
        "id": "MqX8MvuvUoty",
        "outputId": "ccb4aebb-fc60-47da-9ed3-9772a89c9c7e"
      },
      "outputs": [
        {
          "name": "stdout",
          "output_type": "stream",
          "text": [
            "313/313 [==============================] - 11s 36ms/step - loss: 0.0272 - accuracy: 0.9915\n"
          ]
        },
        {
          "data": {
            "text/plain": [
              "[0.02715974487364292, 0.9915000200271606]"
            ]
          },
          "execution_count": 18,
          "metadata": {},
          "output_type": "execute_result"
        }
      ],
      "source": [
        "model.evaluate(x_test, y_test_onehot)"
      ]
    },
    {
      "cell_type": "markdown",
      "metadata": {
        "id": "drR7gZkoU47z"
      },
      "source": [
        "epoch을 10으로 하고 filter의 개수를 30으로 했을 때의 accuracy는 0.9915로 높게 나오는 편이다.\n",
        "epoch 6에서 한 번 accuracy 업데이트가 멈췄다가 epoch 8에서 한번 더 업데이트 되는 것을 확인해볼 수 있다."
      ]
    },
    {
      "cell_type": "code",
      "execution_count": null,
      "metadata": {
        "id": "yUCE4XhHVFQx"
      },
      "outputs": [],
      "source": []
    }
  ],
  "metadata": {
    "colab": {
      "provenance": []
    },
    "kernelspec": {
      "display_name": "Python 3",
      "name": "python3"
    },
    "language_info": {
      "name": "python"
    }
  },
  "nbformat": 4,
  "nbformat_minor": 0
}
